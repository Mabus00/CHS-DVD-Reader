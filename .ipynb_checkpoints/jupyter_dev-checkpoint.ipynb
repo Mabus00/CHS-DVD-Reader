{
 "cells": [
  {
   "cell_type": "code",
   "execution_count": 8,
   "id": "efbdfbba",
   "metadata": {},
   "outputs": [],
   "source": [
    "import os\n",
    "import csv"
   ]
  },
  {
   "cell_type": "code",
   "execution_count": 13,
   "id": "dbd8b35f",
   "metadata": {},
   "outputs": [],
   "source": [
    "current_database_folder = \"C:/Users/MCEUser/Desktop/CHS DVD Reader Files/East_West_DVD_Apr24\""
   ]
  },
  {
   "cell_type": "code",
   "execution_count": 14,
   "id": "fe4ab8ed",
   "metadata": {},
   "outputs": [
    {
     "name": "stdout",
     "output_type": "stream",
     "text": [
      "C:/Users/MCEUser/Desktop/CHS DVD Reader Files/East_West_DVD_Apr24\n"
     ]
    }
   ],
   "source": [
    "print(current_database_folder)"
   ]
  },
  {
   "cell_type": "code",
   "execution_count": 15,
   "id": "f9eaeb84",
   "metadata": {},
   "outputs": [
    {
     "name": "stdout",
     "output_type": "stream",
     "text": [
      "C:/Users/MCEUser/Desktop/CHS DVD Reader Files/East_West_DVD_Apr24\\EastDVD_20240409\\RM-ARC\n",
      "C:/Users/MCEUser/Desktop/CHS DVD Reader Files/East_West_DVD_Apr24\\EastDVD_20240409\\RM-ATL\n",
      "C:/Users/MCEUser/Desktop/CHS DVD Reader Files/East_West_DVD_Apr24\\EastDVD_20240409\\RM-CEN\n",
      "C:/Users/MCEUser/Desktop/CHS DVD Reader Files/East_West_DVD_Apr24\\EastDVD_20240409\\V-ATL-A\n",
      "C:/Users/MCEUser/Desktop/CHS DVD Reader Files/East_West_DVD_Apr24\\EastDVD_20240409\\V-ATL-B\n",
      "C:/Users/MCEUser/Desktop/CHS DVD Reader Files/East_West_DVD_Apr24\\EastDVD_20240409\\V-ATL-C\n",
      "C:/Users/MCEUser/Desktop/CHS DVD Reader Files/East_West_DVD_Apr24\\EastDVD_20240409\\V-CEN-A\n",
      "C:/Users/MCEUser/Desktop/CHS DVD Reader Files/East_West_DVD_Apr24\\EastDVD_20240409\\V-CEN-B\n",
      "C:/Users/MCEUser/Desktop/CHS DVD Reader Files/East_West_DVD_Apr24\\EastDVD_20240409\\V-CEN-C\n",
      "C:/Users/MCEUser/Desktop/CHS DVD Reader Files/East_West_DVD_Apr24\\EastDVD_20240409\\V-NOR-A\n",
      "C:/Users/MCEUser/Desktop/CHS DVD Reader Files/East_West_DVD_Apr24\\EastDVD_20240409\\Z_03_29 N_t_M\n"
     ]
    }
   ],
   "source": [
    "for root, dirs, files in os.walk(current_database_folder):\n",
    "    for dir_name in dirs:\n",
    "        # Extract part before underscore\n",
    "        dvd_folder_name = dir_name.split('_')[0]\n",
    "        if dvd_folder_name.startswith('EastDVD') or dvd_folder_name.startswith('WestDVD'):\n",
    "            dvd_path = os.path.join(root, dir_name)\n",
    "            for root, dirs, files in os.walk(dvd_path):\n",
    "                for dir_name in dirs:\n",
    "                    dir_path = os.path.join(root, dir_name)\n",
    "                    print(dir_path)\n",
    "                #break\n",
    "                #for file in files:"
   ]
  },
  {
   "cell_type": "code",
   "execution_count": null,
   "id": "53a9a5f4",
   "metadata": {},
   "outputs": [],
   "source": []
  },
  {
   "cell_type": "code",
   "execution_count": null,
   "id": "eb1e6bbe",
   "metadata": {},
   "outputs": [],
   "source": []
  },
  {
   "cell_type": "code",
   "execution_count": null,
   "id": "55450652",
   "metadata": {},
   "outputs": [],
   "source": []
  }
 ],
 "metadata": {
  "kernelspec": {
   "display_name": "Python 3 (ipykernel)",
   "language": "python",
   "name": "python3"
  },
  "language_info": {
   "codemirror_mode": {
    "name": "ipython",
    "version": 3
   },
   "file_extension": ".py",
   "mimetype": "text/x-python",
   "name": "python",
   "nbconvert_exporter": "python",
   "pygments_lexer": "ipython3",
   "version": "3.11.4"
  }
 },
 "nbformat": 4,
 "nbformat_minor": 5
}
