{
 "cells": [
  {
   "cell_type": "code",
   "execution_count": 6,
   "id": "efbdfbba",
   "metadata": {},
   "outputs": [],
   "source": [
    "import os\n",
    "import csv\n",
    "import pandas as pd\n",
    "import sqlite3"
   ]
  },
  {
   "cell_type": "code",
   "execution_count": 7,
   "id": "dbd8b35f",
   "metadata": {},
   "outputs": [],
   "source": [
    "database_folder = \"C:/Users/wayne/OneDrive/Desktop/CHS DVD Reader/East_West_DVD_Oct24\""
   ]
  },
  {
   "cell_type": "code",
   "execution_count": 8,
   "id": "ddf8fa61-f299-466e-bbeb-277607e3dc80",
   "metadata": {},
   "outputs": [],
   "source": [
    "current_database_path = \"C:/Users/wayne/OneDrive/Desktop/CHS DVD Reader/East_West_DVD_Oct24/current_database.db\""
   ]
  },
  {
   "cell_type": "code",
   "execution_count": 9,
   "id": "53a9a5f4",
   "metadata": {},
   "outputs": [],
   "source": [
    "def get_database_connection(database_path):\n",
    "    conn = sqlite3.connect(database_path)\n",
    "    cursor = conn.cursor()\n",
    "    return conn, cursor"
   ]
  },
  {
   "cell_type": "code",
   "execution_count": 10,
   "id": "c542f804-5fac-4ac1-80fb-9949e29c6a04",
   "metadata": {
    "scrolled": true
   },
   "outputs": [
    {
     "ename": "OperationalError",
     "evalue": "unable to open database file",
     "output_type": "error",
     "traceback": [
      "\u001b[1;31m---------------------------------------------------------------------------\u001b[0m",
      "\u001b[1;31mOperationalError\u001b[0m                          Traceback (most recent call last)",
      "Cell \u001b[1;32mIn[10], line 1\u001b[0m\n\u001b[1;32m----> 1\u001b[0m current_database_conn, current_database_cursor \u001b[38;5;241m=\u001b[39m get_database_connection(current_database_path)\n",
      "Cell \u001b[1;32mIn[9], line 2\u001b[0m, in \u001b[0;36mget_database_connection\u001b[1;34m(database_path)\u001b[0m\n\u001b[0;32m      1\u001b[0m \u001b[38;5;28;01mdef\u001b[39;00m \u001b[38;5;21mget_database_connection\u001b[39m(database_path):\n\u001b[1;32m----> 2\u001b[0m     conn \u001b[38;5;241m=\u001b[39m sqlite3\u001b[38;5;241m.\u001b[39mconnect(database_path)\n\u001b[0;32m      3\u001b[0m     cursor \u001b[38;5;241m=\u001b[39m conn\u001b[38;5;241m.\u001b[39mcursor()\n\u001b[0;32m      4\u001b[0m     \u001b[38;5;28;01mreturn\u001b[39;00m conn, cursor\n",
      "\u001b[1;31mOperationalError\u001b[0m: unable to open database file"
     ]
    }
   ],
   "source": [
    "current_database_conn, current_database_cursor = get_database_connection(current_database_path)"
   ]
  },
  {
   "cell_type": "code",
   "execution_count": null,
   "id": "eb1e6bbe",
   "metadata": {},
   "outputs": [],
   "source": [
    "current_database_cursor.execute(\"SELECT name FROM sqlite_master WHERE type='table';\")\n",
    "tables_current = [row[0] for row in current_database_cursor.fetchall()]"
   ]
  },
  {
   "cell_type": "code",
   "execution_count": null,
   "id": "55450652",
   "metadata": {},
   "outputs": [],
   "source": [
    "tables_current"
   ]
  },
  {
   "cell_type": "code",
   "execution_count": null,
   "id": "a078d034-a2e8-4acb-a58d-3e813cde9899",
   "metadata": {},
   "outputs": [],
   "source": [
    "# Get the list of foldernames in the subject folder\n",
    "folders = [item for item in os.listdir(database_folder) if os.path.isdir(os.path.join(database_folder, item))]"
   ]
  },
  {
   "cell_type": "code",
   "execution_count": null,
   "id": "b388ee55-809e-47b6-bbee-36e52f2ce3d9",
   "metadata": {},
   "outputs": [],
   "source": [
    "folders"
   ]
  },
  {
   "cell_type": "code",
   "execution_count": null,
   "id": "ac4d072b-f14b-4249-b841-cc5959f3d54a",
   "metadata": {},
   "outputs": [],
   "source": [
    "raster_target_folder = 'BSBCHART'\n",
    "vector_target_folder = 'ENC_ROOT'"
   ]
  },
  {
   "cell_type": "code",
   "execution_count": null,
   "id": "f14a54ff-8bf1-40b8-8af6-5fcb282836c7",
   "metadata": {},
   "outputs": [],
   "source": [
    "def find_folder(starting_directory, target_folder_name):\n",
    "    # Recursively searches for a folder with a specific name starting from the given directory.\n",
    "    for root, dirs, files in os.walk(starting_directory):\n",
    "        for dir_name in dirs:\n",
    "            if dir_name == target_folder_name:\n",
    "                return os.path.join(root, dir_name)"
   ]
  },
  {
   "cell_type": "code",
   "execution_count": null,
   "id": "ea188237-6db0-4e16-a3be-955e89ba0447",
   "metadata": {},
   "outputs": [],
   "source": [
    "complete_path = []\n",
    "for folder in folders:\n",
    "    folder_path = os.path.join(database_folder, folder)\n",
    "    # Get the list of sub-foldernames in the subject folder\n",
    "    sub_folders = [item for item in os.listdir(folder_path) if os.path.isdir(os.path.join(folder_path, item))]\n",
    "    for sub_folder in sub_folders:\n",
    "        sub_folder_path = os.path.join(folder_path, sub_folder)\n",
    "\n",
    "        if \"RM\" in sub_folder_path:\n",
    "            temp_path = find_folder(sub_folder_path, raster_target_folder)\n",
    "        else:\n",
    "            temp_path = find_folder(sub_folder_path, vector_target_folder)\n",
    "    \n",
    "        complete_path.append(os.path.dirname(temp_path))\n",
    "    \n",
    "print(complete_path)"
   ]
  },
  {
   "cell_type": "code",
   "execution_count": null,
   "id": "1fc059ef-99a0-4a37-ac02-70be543c934b",
   "metadata": {},
   "outputs": [],
   "source": [
    "def find_and_read_csv(base_path):\n",
    "    # Iterate through the directory structure\n",
    "    for root, dirs, files in os.walk(base_path):\n",
    "        # Check if 'RM' is in the directory path\n",
    "        for file in files:\n",
    "            # Check if the file is a .csv file\n",
    "            if file.endswith('.csv'):\n",
    "                csv_path = os.path.join(root, file)\n",
    "                \n",
    "                # Read the CSV file using pandas\n",
    "                df = read_csv_with_fallback(csv_path)\n",
    "                return df\n",
    "    return None"
   ]
  },
  {
   "cell_type": "code",
   "execution_count": null,
   "id": "e0686d1b-ea43-4cc1-91bd-c8e7d836d86b",
   "metadata": {},
   "outputs": [],
   "source": [
    "def read_csv_with_fallback(file_path):\n",
    "    \"\"\"Try reading a CSV file with different encodings.\"\"\"\n",
    "    encodings = ['utf-8', 'latin1']\n",
    "    for encoding in encodings:\n",
    "        try:\n",
    "            # note here I'm only reading the second column\n",
    "            return pd.read_csv(file_path, encoding=encoding, skiprows=1, header=None)\n",
    "        except UnicodeDecodeError:\n",
    "            continue\n",
    "    raise ValueError(f\"Could not read the file {file_path} with available encodings.\")"
   ]
  },
  {
   "cell_type": "code",
   "execution_count": null,
   "id": "f0609243-27a5-4e34-8d10-29bf0c5c5473",
   "metadata": {},
   "outputs": [],
   "source": [
    "# Loop through the complete_path\n",
    "reference_data = None  # This will hold the reference data\n",
    "\n",
    "for item in complete_path:\n",
    "    if \"RM\" not in item:\n",
    "        # Read the current CSV file\n",
    "        current_data = find_and_read_csv(item)\n",
    "\n",
    "        # Set the first item as the reference\n",
    "        if reference_data is None:\n",
    "            reference_data = current_data  # Initialize reference with the first file\n",
    "        else:\n",
    "            # Compare with the reference file\n",
    "            if len(reference_data) != len(current_data):  # Check row count first\n",
    "                print(f\"{item} is different from the reference file (different number of rows)\")\n",
    "            else:\n",
    "                # Check for differences\n",
    "                if len(reference_data) != len(current_data):\n",
    "                    print(f\"{item} is different from the reference file (different number of rows)\")\n",
    "                else:\n",
    "                    # Line-by-line comparison\n",
    "                    for i, (ref_line, curr_line) in enumerate(zip(reference_data, current_data)):\n",
    "                        if ref_line != curr_line:\n",
    "                            print(f\"Difference found in file {item} at line {i + 1}:\")\n",
    "                            print(f\"  Reference: {ref_line}\")\n",
    "                            print(f\"  Current:   {curr_line}\")\n",
    "                    else:\n",
    "                        print(f\"{item} matches the reference file\")"
   ]
  },
  {
   "cell_type": "code",
   "execution_count": null,
   "id": "8547aedf-fd57-471e-ac9f-c860237f6922",
   "metadata": {},
   "outputs": [],
   "source": []
  },
  {
   "cell_type": "code",
   "execution_count": null,
   "id": "b3c4cc6d-cccc-4cd7-857d-3235b98f14f8",
   "metadata": {},
   "outputs": [],
   "source": []
  },
  {
   "cell_type": "code",
   "execution_count": null,
   "id": "0f15d029-1ec6-4cc2-bd21-f133c81a4176",
   "metadata": {},
   "outputs": [],
   "source": []
  },
  {
   "cell_type": "code",
   "execution_count": null,
   "id": "76553b52-97a5-40a9-a850-d427eda6db12",
   "metadata": {},
   "outputs": [],
   "source": []
  },
  {
   "cell_type": "code",
   "execution_count": null,
   "id": "1485eea7-2aeb-4310-a20e-193649090ef6",
   "metadata": {},
   "outputs": [],
   "source": [
    "missing_files = []\n",
    "extra_files = []\n",
    "\n",
    "for item in complete_path:\n",
    "    # Find and read the CSV file\n",
    "    df = find_and_read_csv(item)\n",
    "    formatted_name = convert_path_to_name(item) # Output: EastDVD_20240726_RM_ARC\n",
    "    \n",
    "    if \"RM\" in item:\n",
    "        table_files = current_database_cursor.execute(f\"SELECT File FROM {formatted_name}\")  # Assuming col2 is the column to fetch\n",
    "        expected_files = df.iloc[:, 1].tolist()\n",
    "    else:\n",
    "        table_files = current_database_cursor.execute(f\"SELECT CELL_NAME FROM {formatted_name}\")  # Assuming col2 is the column to fetch\n",
    "        # Filter out entries in expected_files based on col1 containing \"test\"\n",
    "        expected_files = df[df[0].str.contains('Cancel_Annuler') == False][1].tolist()\n",
    "\n",
    "    table_files = current_database_cursor.fetchall()  # Fetch all rows\n",
    "    table_files = [row[0] for row in table_files]  # Extract values from rows\n",
    "    \n",
    "    try:\n",
    "        # read the extracted second column of the CSV file to extract the list of expected_files\n",
    "        if not set(expected_files).issubset(set(table_files)):\n",
    "            missing_files.append(set(expected_files) - set(formatted_name))\n",
    "            extra_files.append(set(formatted_name) - set(expected_files))\n",
    "    except ValueError as e:\n",
    "            print(f\"Error reading CSV file {csv_file}: {e}\")\n",
    "\n",
    "current_database_conn.close()"
   ]
  },
  {
   "cell_type": "code",
   "execution_count": null,
   "id": "d860afb9-997d-4ff8-b985-f0adceab1a69",
   "metadata": {},
   "outputs": [],
   "source": [
    "missing_files, extra_files"
   ]
  },
  {
   "cell_type": "code",
   "execution_count": null,
   "id": "a82e5d66-1273-4675-a5f6-4b8fc2d3a540",
   "metadata": {},
   "outputs": [],
   "source": []
  }
 ],
 "metadata": {
  "kernelspec": {
   "display_name": "Python 3 (ipykernel)",
   "language": "python",
   "name": "python3"
  },
  "language_info": {
   "codemirror_mode": {
    "name": "ipython",
    "version": 3
   },
   "file_extension": ".py",
   "mimetype": "text/x-python",
   "name": "python",
   "nbconvert_exporter": "python",
   "pygments_lexer": "ipython3",
   "version": "3.11.9"
  }
 },
 "nbformat": 4,
 "nbformat_minor": 5
}
