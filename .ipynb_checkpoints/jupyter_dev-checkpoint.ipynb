{
 "cells": [
  {
   "cell_type": "code",
   "execution_count": 28,
   "id": "efbdfbba",
   "metadata": {},
   "outputs": [],
   "source": [
    "import os\n",
    "import csv\n",
    "import pandas as pd\n",
    "import sqlite3"
   ]
  },
  {
   "cell_type": "code",
   "execution_count": 36,
   "id": "dbd8b35f",
   "metadata": {},
   "outputs": [],
   "source": [
    "current_database_folder = \"C:/Users/wayne/OneDrive/Desktop/CHS DVD Reader/East_West_DVD_Jul24\""
   ]
  },
  {
   "cell_type": "code",
   "execution_count": 38,
   "id": "ddf8fa61-f299-466e-bbeb-277607e3dc80",
   "metadata": {},
   "outputs": [],
   "source": [
    "current_database_path = \"C:/Users/wayne/OneDrive/Desktop/CHS DVD Reader/East_West_DVD_Jul24/current_database.db\""
   ]
  },
  {
   "cell_type": "code",
   "execution_count": 39,
   "id": "53a9a5f4",
   "metadata": {},
   "outputs": [],
   "source": [
    "def get_database_connection(database_path):\n",
    "    conn = sqlite3.connect(database_path)\n",
    "    cursor = conn.cursor()\n",
    "    return conn, cursor"
   ]
  },
  {
   "cell_type": "code",
   "execution_count": 40,
   "id": "c542f804-5fac-4ac1-80fb-9949e29c6a04",
   "metadata": {
    "scrolled": true
   },
   "outputs": [],
   "source": [
    "current_database_conn, current_database_cursor = get_database_connection(current_database_path)"
   ]
  },
  {
   "cell_type": "code",
   "execution_count": 42,
   "id": "eb1e6bbe",
   "metadata": {},
   "outputs": [],
   "source": [
    "current_database_cursor.execute(\"SELECT name FROM sqlite_master WHERE type='table';\")\n",
    "tables_current = [row[0] for row in current_database_cursor.fetchall()]"
   ]
  },
  {
   "cell_type": "code",
   "execution_count": 43,
   "id": "55450652",
   "metadata": {},
   "outputs": [
    {
     "data": {
      "text/plain": [
       "['EastDVD_20240726_RM_ARC',\n",
       " 'EastDVD_20240726_RM_ATL',\n",
       " 'EastDVD_20240726_RM_CEN',\n",
       " 'EastDVD_20240726_V_ATL_A',\n",
       " 'EastDVD_20240726_V_ATL_B',\n",
       " 'EastDVD_20240726_V_ATL_C',\n",
       " 'EastDVD_20240726_V_CEN_A',\n",
       " 'EastDVD_20240726_V_CEN_B',\n",
       " 'EastDVD_20240726_V_CEN_C',\n",
       " 'EastDVD_20240726_V_NOR_A',\n",
       " 'WestDVD_20240726_RM_ARC',\n",
       " 'WestDVD_20240726_RM_PAC',\n",
       " 'WestDVD_20240726_V_NOR_A',\n",
       " 'WestDVD_20240726_V_PAC_A',\n",
       " 'WestDVD_20240726_V_PAC_B']"
      ]
     },
     "execution_count": 43,
     "metadata": {},
     "output_type": "execute_result"
    }
   ],
   "source": [
    "tables_current"
   ]
  },
  {
   "cell_type": "code",
   "execution_count": null,
   "id": "a078d034-a2e8-4acb-a58d-3e813cde9899",
   "metadata": {},
   "outputs": [],
   "source": []
  }
 ],
 "metadata": {
  "kernelspec": {
   "display_name": "Python 3 (ipykernel)",
   "language": "python",
   "name": "python3"
  },
  "language_info": {
   "codemirror_mode": {
    "name": "ipython",
    "version": 3
   },
   "file_extension": ".py",
   "mimetype": "text/x-python",
   "name": "python",
   "nbconvert_exporter": "python",
   "pygments_lexer": "ipython3",
   "version": "3.10.14"
  }
 },
 "nbformat": 4,
 "nbformat_minor": 5
}
