{
 "cells": [
  {
   "cell_type": "code",
   "execution_count": 44,
   "id": "efbdfbba",
   "metadata": {},
   "outputs": [],
   "source": [
    "import os\n",
    "import csv\n",
    "import pandas as pd\n",
    "import sqlite3"
   ]
  },
  {
   "cell_type": "code",
   "execution_count": 45,
   "id": "dbd8b35f",
   "metadata": {},
   "outputs": [],
   "source": [
    "database_folder = \"C:/Users/wayne/OneDrive/Desktop/CHS DVD Reader/East_West_DVD_Jul24\""
   ]
  },
  {
   "cell_type": "code",
   "execution_count": 46,
   "id": "ddf8fa61-f299-466e-bbeb-277607e3dc80",
   "metadata": {},
   "outputs": [],
   "source": [
    "current_database_path = \"C:/Users/wayne/OneDrive/Desktop/CHS DVD Reader/East_West_DVD_Jul24/current_database.db\""
   ]
  },
  {
   "cell_type": "code",
   "execution_count": 47,
   "id": "53a9a5f4",
   "metadata": {},
   "outputs": [],
   "source": [
    "def get_database_connection(database_path):\n",
    "    conn = sqlite3.connect(database_path)\n",
    "    cursor = conn.cursor()\n",
    "    return conn, cursor"
   ]
  },
  {
   "cell_type": "code",
   "execution_count": 48,
   "id": "c542f804-5fac-4ac1-80fb-9949e29c6a04",
   "metadata": {
    "scrolled": true
   },
   "outputs": [],
   "source": [
    "current_database_conn, current_database_cursor = get_database_connection(current_database_path)"
   ]
  },
  {
   "cell_type": "code",
   "execution_count": 49,
   "id": "eb1e6bbe",
   "metadata": {},
   "outputs": [],
   "source": [
    "current_database_cursor.execute(\"SELECT name FROM sqlite_master WHERE type='table';\")\n",
    "tables_current = [row[0] for row in current_database_cursor.fetchall()]"
   ]
  },
  {
   "cell_type": "code",
   "execution_count": 50,
   "id": "55450652",
   "metadata": {},
   "outputs": [
    {
     "data": {
      "text/plain": [
       "['EastDVD_20240726_RM_ARC',\n",
       " 'EastDVD_20240726_RM_ATL',\n",
       " 'EastDVD_20240726_RM_CEN',\n",
       " 'EastDVD_20240726_V_ATL_A',\n",
       " 'EastDVD_20240726_V_ATL_B',\n",
       " 'EastDVD_20240726_V_ATL_C',\n",
       " 'EastDVD_20240726_V_CEN_A',\n",
       " 'EastDVD_20240726_V_CEN_B',\n",
       " 'EastDVD_20240726_V_CEN_C',\n",
       " 'EastDVD_20240726_V_NOR_A',\n",
       " 'WestDVD_20240726_RM_ARC',\n",
       " 'WestDVD_20240726_RM_PAC',\n",
       " 'WestDVD_20240726_V_NOR_A',\n",
       " 'WestDVD_20240726_V_PAC_A',\n",
       " 'WestDVD_20240726_V_PAC_B']"
      ]
     },
     "execution_count": 50,
     "metadata": {},
     "output_type": "execute_result"
    }
   ],
   "source": [
    "tables_current"
   ]
  },
  {
   "cell_type": "code",
   "execution_count": 51,
   "id": "a078d034-a2e8-4acb-a58d-3e813cde9899",
   "metadata": {},
   "outputs": [],
   "source": [
    "# Get the list of foldernames in the subject folder\n",
    "folders = [item for item in os.listdir(database_folder) if os.path.isdir(os.path.join(database_folder, item))]"
   ]
  },
  {
   "cell_type": "code",
   "execution_count": 52,
   "id": "b388ee55-809e-47b6-bbee-36e52f2ce3d9",
   "metadata": {},
   "outputs": [
    {
     "data": {
      "text/plain": [
       "['EastDVD_20240726', 'WestDVD_20240726']"
      ]
     },
     "execution_count": 52,
     "metadata": {},
     "output_type": "execute_result"
    }
   ],
   "source": [
    "folders"
   ]
  },
  {
   "cell_type": "code",
   "execution_count": 70,
   "id": "ac4d072b-f14b-4249-b841-cc5959f3d54a",
   "metadata": {},
   "outputs": [],
   "source": [
    "raster_target_folder = 'BSBCHART'\n",
    "vector_target_folder = 'ENC_ROOT'"
   ]
  },
  {
   "cell_type": "code",
   "execution_count": 68,
   "id": "f14a54ff-8bf1-40b8-8af6-5fcb282836c7",
   "metadata": {},
   "outputs": [],
   "source": [
    "def find_folder(starting_directory, target_folder_name):\n",
    "    # Recursively searches for a folder with a specific name starting from the given directory.\n",
    "    for root, dirs, files in os.walk(starting_directory):\n",
    "        for dir_name in dirs:\n",
    "            if dir_name == target_folder_name:\n",
    "                return os.path.join(root, dir_name)"
   ]
  },
  {
   "cell_type": "code",
   "execution_count": 79,
   "id": "ea188237-6db0-4e16-a3be-955e89ba0447",
   "metadata": {},
   "outputs": [
    {
     "name": "stdout",
     "output_type": "stream",
     "text": [
      "['C:/Users/wayne/OneDrive/Desktop/CHS DVD Reader/East_West_DVD_Jul24\\\\EastDVD_20240726\\\\RM-ARC', 'C:/Users/wayne/OneDrive/Desktop/CHS DVD Reader/East_West_DVD_Jul24\\\\EastDVD_20240726\\\\RM-ATL', 'C:/Users/wayne/OneDrive/Desktop/CHS DVD Reader/East_West_DVD_Jul24\\\\EastDVD_20240726\\\\RM-CEN', 'C:/Users/wayne/OneDrive/Desktop/CHS DVD Reader/East_West_DVD_Jul24\\\\EastDVD_20240726\\\\V-ATL-A', 'C:/Users/wayne/OneDrive/Desktop/CHS DVD Reader/East_West_DVD_Jul24\\\\EastDVD_20240726\\\\V-ATL-B', 'C:/Users/wayne/OneDrive/Desktop/CHS DVD Reader/East_West_DVD_Jul24\\\\EastDVD_20240726\\\\V-ATL-C', 'C:/Users/wayne/OneDrive/Desktop/CHS DVD Reader/East_West_DVD_Jul24\\\\EastDVD_20240726\\\\V-CEN-A', 'C:/Users/wayne/OneDrive/Desktop/CHS DVD Reader/East_West_DVD_Jul24\\\\EastDVD_20240726\\\\V-CEN-B', 'C:/Users/wayne/OneDrive/Desktop/CHS DVD Reader/East_West_DVD_Jul24\\\\EastDVD_20240726\\\\V-CEN-C', 'C:/Users/wayne/OneDrive/Desktop/CHS DVD Reader/East_West_DVD_Jul24\\\\EastDVD_20240726\\\\V-NOR-A', 'C:/Users/wayne/OneDrive/Desktop/CHS DVD Reader/East_West_DVD_Jul24\\\\WestDVD_20240726\\\\RM-ARC', 'C:/Users/wayne/OneDrive/Desktop/CHS DVD Reader/East_West_DVD_Jul24\\\\WestDVD_20240726\\\\RM-PAC', 'C:/Users/wayne/OneDrive/Desktop/CHS DVD Reader/East_West_DVD_Jul24\\\\WestDVD_20240726\\\\V-NOR-A', 'C:/Users/wayne/OneDrive/Desktop/CHS DVD Reader/East_West_DVD_Jul24\\\\WestDVD_20240726\\\\V-PAC-A', 'C:/Users/wayne/OneDrive/Desktop/CHS DVD Reader/East_West_DVD_Jul24\\\\WestDVD_20240726\\\\V-PAC-B']\n"
     ]
    }
   ],
   "source": [
    "complete_path = []\n",
    "for folder in folders:\n",
    "    folder_path = os.path.join(database_folder, folder)\n",
    "    # Get the list of sub-foldernames in the subject folder\n",
    "    sub_folders = [item for item in os.listdir(folder_path) if os.path.isdir(os.path.join(folder_path, item))]\n",
    "    for sub_folder in sub_folders:\n",
    "        sub_folder_path = os.path.join(folder_path, sub_folder)\n",
    "\n",
    "        if \"RM\" in sub_folder_path:\n",
    "            temp_path = find_folder(sub_folder_path, raster_target_folder)\n",
    "        else:\n",
    "            temp_path = find_folder(sub_folder_path, vector_target_folder)\n",
    "    \n",
    "        complete_path.append(os.path.dirname(temp_path))\n",
    "    \n",
    "print(complete_path)"
   ]
  },
  {
   "cell_type": "code",
   "execution_count": 106,
   "id": "1fc059ef-99a0-4a37-ac02-70be543c934b",
   "metadata": {},
   "outputs": [],
   "source": [
    "def find_and_read_csv(base_path):\n",
    "    # Iterate through the directory structure\n",
    "    for root, dirs, files in os.walk(base_path):\n",
    "        # Check if 'RM' is in the directory path\n",
    "        for file in files:\n",
    "            # Check if the file is a .csv file\n",
    "            if file.endswith('.csv'):\n",
    "                csv_path = os.path.join(root, file)\n",
    "                \n",
    "                # Read the CSV file using pandas\n",
    "                df = read_csv_with_fallback(csv_path)\n",
    "                return df\n",
    "    return None"
   ]
  },
  {
   "cell_type": "code",
   "execution_count": 107,
   "id": "e0686d1b-ea43-4cc1-91bd-c8e7d836d86b",
   "metadata": {},
   "outputs": [],
   "source": [
    "def read_csv_with_fallback(file_path):\n",
    "    \"\"\"Try reading a CSV file with different encodings.\"\"\"\n",
    "    encodings = ['utf-8', 'latin1']\n",
    "    for encoding in encodings:\n",
    "        try:\n",
    "            # note here I'm only reading the second column\n",
    "            return pd.read_csv(file_path, usecols=[1], encoding=encoding, skiprows=1, header=None)\n",
    "        except UnicodeDecodeError:\n",
    "            continue\n",
    "    raise ValueError(f\"Could not read the file {file_path} with available encodings.\")"
   ]
  },
  {
   "cell_type": "code",
   "execution_count": null,
   "id": "7385c2d6-8dcb-436c-891f-b9befd8ae2be",
   "metadata": {},
   "outputs": [],
   "source": [
    "def convert_path_to_name(path):\n",
    "    # Split the path into components\n",
    "    components = path.split('\\\\')  # Split by backslash for Windows paths\n",
    "\n",
    "    # Extract the relevant components\n",
    "    parent_folder = components[-2]  # Second to last component\n",
    "    last_folder = components[-1]  # Last component\n",
    "\n",
    "    # Replace dashes and backslashes with underscores in the last folder name\n",
    "    last_folder_cleaned = last_folder.replace('-', '_').replace('\\\\', '_')\n",
    "\n",
    "    # Construct the final name\n",
    "    final_name = f\"{parent_folder}_{last_folder_cleaned}\"\n",
    "    \n",
    "    return final_name"
   ]
  },
  {
   "cell_type": "code",
   "execution_count": 118,
   "id": "1485eea7-2aeb-4310-a20e-193649090ef6",
   "metadata": {},
   "outputs": [
    {
     "name": "stdout",
     "output_type": "stream",
     "text": [
      "EastDVD_20240726_RM_ARC\n",
      "EastDVD_20240726_RM_ATL\n",
      "EastDVD_20240726_RM_CEN\n",
      "EastDVD_20240726_V_ATL_A\n",
      "EastDVD_20240726_V_ATL_B\n",
      "EastDVD_20240726_V_ATL_C\n",
      "EastDVD_20240726_V_CEN_A\n",
      "EastDVD_20240726_V_CEN_B\n",
      "EastDVD_20240726_V_CEN_C\n",
      "EastDVD_20240726_V_NOR_A\n",
      "WestDVD_20240726_RM_ARC\n",
      "WestDVD_20240726_RM_PAC\n",
      "WestDVD_20240726_V_NOR_A\n",
      "WestDVD_20240726_V_PAC_A\n",
      "WestDVD_20240726_V_PAC_B\n"
     ]
    }
   ],
   "source": [
    "for item in complete_path:\n",
    "    # Find and read the CSV file\n",
    "    df = find_and_read_csv(item)\n",
    "    \n",
    "    formatted_name = convert_path_to_name(path)\n",
    "  \n",
    "    print(final_name)  # Output: EastDVD_20240726_RM_ARC\n",
    "    \n",
    "    try:\n",
    "        # read the extracted second column of the CSV file to extract the list of expected_files\n",
    "        expected_files = df.iloc[:, 0].tolist()\n",
    "\n",
    "\n",
    "\n",
    "\n",
    "\n",
    "    \n",
    "    #print(expected_files)\n",
    "\n",
    "    # # Check for missing and extra files\n",
    "    # missing = [file for file in expected_files if file not in content]\n",
    "    # extra = [file for file in content if file not in expected_files]\n",
    "    \n",
    "    # if missing:\n",
    "    #     missing_files.append(f\"Missing files in {sub_sub_folder}: {missing}\")\n",
    "    # if extra:\n",
    "    #     extra_files.appen(f\"Extra files in {sub_sub_folder}: {extra}\")\n",
    "    except ValueError as e:\n",
    "        print(f\"Error reading CSV file {csv_file}: {e}\")"
   ]
  },
  {
   "cell_type": "code",
   "execution_count": null,
   "id": "d860afb9-997d-4ff8-b985-f0adceab1a69",
   "metadata": {},
   "outputs": [],
   "source": []
  }
 ],
 "metadata": {
  "kernelspec": {
   "display_name": "Python 3 (ipykernel)",
   "language": "python",
   "name": "python3"
  },
  "language_info": {
   "codemirror_mode": {
    "name": "ipython",
    "version": 3
   },
   "file_extension": ".py",
   "mimetype": "text/x-python",
   "name": "python",
   "nbconvert_exporter": "python",
   "pygments_lexer": "ipython3",
   "version": "3.10.14"
  }
 },
 "nbformat": 4,
 "nbformat_minor": 5
}
