{
 "cells": [
  {
   "cell_type": "code",
   "execution_count": 44,
   "id": "efbdfbba",
   "metadata": {},
   "outputs": [],
   "source": [
    "import os\n",
    "import csv\n",
    "import pandas as pd\n",
    "import sqlite3"
   ]
  },
  {
   "cell_type": "code",
   "execution_count": 45,
   "id": "dbd8b35f",
   "metadata": {},
   "outputs": [],
   "source": [
    "database_folder = \"C:/Users/wayne/OneDrive/Desktop/CHS DVD Reader/East_West_DVD_Jul24\""
   ]
  },
  {
   "cell_type": "code",
   "execution_count": 46,
   "id": "ddf8fa61-f299-466e-bbeb-277607e3dc80",
   "metadata": {},
   "outputs": [],
   "source": [
    "current_database_path = \"C:/Users/wayne/OneDrive/Desktop/CHS DVD Reader/East_West_DVD_Jul24/current_database.db\""
   ]
  },
  {
   "cell_type": "code",
   "execution_count": 47,
   "id": "53a9a5f4",
   "metadata": {},
   "outputs": [],
   "source": [
    "def get_database_connection(database_path):\n",
    "    conn = sqlite3.connect(database_path)\n",
    "    cursor = conn.cursor()\n",
    "    return conn, cursor"
   ]
  },
  {
   "cell_type": "code",
   "execution_count": 48,
   "id": "c542f804-5fac-4ac1-80fb-9949e29c6a04",
   "metadata": {
    "scrolled": true
   },
   "outputs": [],
   "source": [
    "current_database_conn, current_database_cursor = get_database_connection(current_database_path)"
   ]
  },
  {
   "cell_type": "code",
   "execution_count": 49,
   "id": "eb1e6bbe",
   "metadata": {},
   "outputs": [],
   "source": [
    "current_database_cursor.execute(\"SELECT name FROM sqlite_master WHERE type='table';\")\n",
    "tables_current = [row[0] for row in current_database_cursor.fetchall()]"
   ]
  },
  {
   "cell_type": "code",
   "execution_count": 50,
   "id": "55450652",
   "metadata": {},
   "outputs": [
    {
     "data": {
      "text/plain": [
       "['EastDVD_20240726_RM_ARC',\n",
       " 'EastDVD_20240726_RM_ATL',\n",
       " 'EastDVD_20240726_RM_CEN',\n",
       " 'EastDVD_20240726_V_ATL_A',\n",
       " 'EastDVD_20240726_V_ATL_B',\n",
       " 'EastDVD_20240726_V_ATL_C',\n",
       " 'EastDVD_20240726_V_CEN_A',\n",
       " 'EastDVD_20240726_V_CEN_B',\n",
       " 'EastDVD_20240726_V_CEN_C',\n",
       " 'EastDVD_20240726_V_NOR_A',\n",
       " 'WestDVD_20240726_RM_ARC',\n",
       " 'WestDVD_20240726_RM_PAC',\n",
       " 'WestDVD_20240726_V_NOR_A',\n",
       " 'WestDVD_20240726_V_PAC_A',\n",
       " 'WestDVD_20240726_V_PAC_B']"
      ]
     },
     "execution_count": 50,
     "metadata": {},
     "output_type": "execute_result"
    }
   ],
   "source": [
    "tables_current"
   ]
  },
  {
   "cell_type": "code",
   "execution_count": 51,
   "id": "a078d034-a2e8-4acb-a58d-3e813cde9899",
   "metadata": {},
   "outputs": [],
   "source": [
    "# Get the list of foldernames in the subject folder\n",
    "folders = [item for item in os.listdir(database_folder) if os.path.isdir(os.path.join(database_folder, item))]"
   ]
  },
  {
   "cell_type": "code",
   "execution_count": 52,
   "id": "b388ee55-809e-47b6-bbee-36e52f2ce3d9",
   "metadata": {},
   "outputs": [
    {
     "data": {
      "text/plain": [
       "['EastDVD_20240726', 'WestDVD_20240726']"
      ]
     },
     "execution_count": 52,
     "metadata": {},
     "output_type": "execute_result"
    }
   ],
   "source": [
    "folders"
   ]
  },
  {
   "cell_type": "code",
   "execution_count": 70,
   "id": "ac4d072b-f14b-4249-b841-cc5959f3d54a",
   "metadata": {},
   "outputs": [],
   "source": [
    "raster_target_folder = 'BSBCHART'\n",
    "vector_target_folder = 'ENC_ROOT'"
   ]
  },
  {
   "cell_type": "code",
   "execution_count": 68,
   "id": "f14a54ff-8bf1-40b8-8af6-5fcb282836c7",
   "metadata": {},
   "outputs": [],
   "source": [
    "def find_folder(starting_directory, target_folder_name):\n",
    "    # Recursively searches for a folder with a specific name starting from the given directory.\n",
    "    for root, dirs, files in os.walk(starting_directory):\n",
    "        for dir_name in dirs:\n",
    "            if dir_name == target_folder_name:\n",
    "                return os.path.join(root, dir_name)"
   ]
  },
  {
   "cell_type": "code",
   "execution_count": 76,
   "id": "ea188237-6db0-4e16-a3be-955e89ba0447",
   "metadata": {},
   "outputs": [
    {
     "name": "stdout",
     "output_type": "stream",
     "text": [
      "C:/Users/wayne/OneDrive/Desktop/CHS DVD Reader/East_West_DVD_Jul24\\EastDVD_20240726\\RM-ARC\\BSBCHART\n",
      "C:/Users/wayne/OneDrive/Desktop/CHS DVD Reader/East_West_DVD_Jul24\\EastDVD_20240726\\RM-ATL\\BSBCHART\n",
      "C:/Users/wayne/OneDrive/Desktop/CHS DVD Reader/East_West_DVD_Jul24\\EastDVD_20240726\\RM-CEN\\BSBCHART\n",
      "C:/Users/wayne/OneDrive/Desktop/CHS DVD Reader/East_West_DVD_Jul24\\EastDVD_20240726\\V-ATL-A\\ENC_ROOT\n",
      "C:/Users/wayne/OneDrive/Desktop/CHS DVD Reader/East_West_DVD_Jul24\\EastDVD_20240726\\V-ATL-B\\ENC_ROOT\n",
      "C:/Users/wayne/OneDrive/Desktop/CHS DVD Reader/East_West_DVD_Jul24\\EastDVD_20240726\\V-ATL-C\\ENC_ROOT\n",
      "C:/Users/wayne/OneDrive/Desktop/CHS DVD Reader/East_West_DVD_Jul24\\EastDVD_20240726\\V-CEN-A\\ENC_ROOT\n",
      "C:/Users/wayne/OneDrive/Desktop/CHS DVD Reader/East_West_DVD_Jul24\\EastDVD_20240726\\V-CEN-B\\ENC_ROOT\n",
      "C:/Users/wayne/OneDrive/Desktop/CHS DVD Reader/East_West_DVD_Jul24\\EastDVD_20240726\\V-CEN-C\\ENC_ROOT\n",
      "C:/Users/wayne/OneDrive/Desktop/CHS DVD Reader/East_West_DVD_Jul24\\EastDVD_20240726\\V-NOR-A\\ENC_ROOT\n",
      "C:/Users/wayne/OneDrive/Desktop/CHS DVD Reader/East_West_DVD_Jul24\\WestDVD_20240726\\RM-ARC\\BSBCHART\n",
      "C:/Users/wayne/OneDrive/Desktop/CHS DVD Reader/East_West_DVD_Jul24\\WestDVD_20240726\\RM-PAC\\BSBCHART\n",
      "C:/Users/wayne/OneDrive/Desktop/CHS DVD Reader/East_West_DVD_Jul24\\WestDVD_20240726\\V-NOR-A\\ENC_ROOT\n",
      "C:/Users/wayne/OneDrive/Desktop/CHS DVD Reader/East_West_DVD_Jul24\\WestDVD_20240726\\V-PAC-A\\ENC_ROOT\n",
      "C:/Users/wayne/OneDrive/Desktop/CHS DVD Reader/East_West_DVD_Jul24\\WestDVD_20240726\\V-PAC-B\\ENC_ROOT\n"
     ]
    }
   ],
   "source": [
    "for folder in folders:\n",
    "    folder_path = os.path.join(database_folder, folder)\n",
    "    # Get the list of sub-foldernames in the subject folder\n",
    "    sub_folders = [item for item in os.listdir(folder_path) if os.path.isdir(os.path.join(folder_path, item))]\n",
    "    for sub_folder in sub_folders:\n",
    "        sub_folder_path = os.path.join(folder_path, sub_folder)\n",
    "\n",
    "        if \"RM\" in sub_folder_path:\n",
    "            complete_path = find_folder(sub_folder_path, raster_target_folder)\n",
    "        else:\n",
    "            complete_path = find_folder(sub_folder_path, vector_target_folder)\n",
    "    \n",
    "        # complete_path = os.path.dirname(complete_path)\n",
    "    \n",
    "        print(complete_path)"
   ]
  },
  {
   "cell_type": "code",
   "execution_count": null,
   "id": "1485eea7-2aeb-4310-a20e-193649090ef6",
   "metadata": {},
   "outputs": [],
   "source": []
  },
  {
   "cell_type": "code",
   "execution_count": null,
   "id": "d860afb9-997d-4ff8-b985-f0adceab1a69",
   "metadata": {},
   "outputs": [],
   "source": []
  }
 ],
 "metadata": {
  "kernelspec": {
   "display_name": "Python 3 (ipykernel)",
   "language": "python",
   "name": "python3"
  },
  "language_info": {
   "codemirror_mode": {
    "name": "ipython",
    "version": 3
   },
   "file_extension": ".py",
   "mimetype": "text/x-python",
   "name": "python",
   "nbconvert_exporter": "python",
   "pygments_lexer": "ipython3",
   "version": "3.10.14"
  }
 },
 "nbformat": 4,
 "nbformat_minor": 5
}
